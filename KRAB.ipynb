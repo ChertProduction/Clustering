{
  "nbformat": 4,
  "nbformat_minor": 0,
  "metadata": {
    "colab": {
      "name": "KRAB.ipynb",
      "provenance": [],
      "collapsed_sections": []
    },
    "kernelspec": {
      "name": "python3",
      "display_name": "Python 3"
    },
    "language_info": {
      "name": "python"
    }
  },
  "cells": [
    {
      "cell_type": "markdown",
      "metadata": {
        "id": "BobmHed1RbJ1"
      },
      "source": [
        "# Кластеризація методом КРАБ.\n",
        "Черних Максим"
      ]
    },
    {
      "cell_type": "markdown",
      "metadata": {
        "id": "FXWh9ovcRqef"
      },
      "source": [
        "# Завдання\n",
        "1. Реалізувати алгоритм та застосувати його. Розділення кластерів проводити по найдовшому ребру.\n",
        "2. Вивести таблицю з кроками об'єднання.\n",
        "3. Оцінити якість кластеризації за критерієм F. Вивести значення всіх чотирьох характеристик.\n",
        "4. Зробити висновок."
      ]
    },
    {
      "cell_type": "markdown",
      "metadata": {
        "id": "yOPTVKdZTnLJ"
      },
      "source": [
        "# Реалізація алгоритму кластерізації методом КРАБ."
      ]
    },
    {
      "cell_type": "markdown",
      "metadata": {
        "id": "kxlIkwTcTuZ1"
      },
      "source": [
        "Iмпортування необхідних для роботи бібліотек"
      ]
    },
    {
      "cell_type": "code",
      "metadata": {
        "id": "Y1RbLZHGTxds"
      },
      "source": [
        "import copy\n",
        "import numpy as np\n",
        "import matplotlib.pyplot as plt\n",
        "import pandas as pd"
      ],
      "execution_count": null,
      "outputs": []
    },
    {
      "cell_type": "markdown",
      "metadata": {
        "id": "80HsDgoeUU8g"
      },
      "source": [
        "Завантаження датасету смертності від травм"
      ]
    },
    {
      "cell_type": "code",
      "metadata": {
        "colab": {
          "base_uri": "https://localhost:8080/",
          "height": 419
        },
        "id": "TFiql3fiUePR",
        "outputId": "a6ef4465-2f9b-40ab-eaab-563dcafa5409"
      },
      "source": [
        "pd.read_excel(f\"InjuryDeath.xlsx\",)"
      ],
      "execution_count": null,
      "outputs": [
        {
          "output_type": "execute_result",
          "data": {
            "text/html": [
              "<div>\n",
              "<style scoped>\n",
              "    .dataframe tbody tr th:only-of-type {\n",
              "        vertical-align: middle;\n",
              "    }\n",
              "\n",
              "    .dataframe tbody tr th {\n",
              "        vertical-align: top;\n",
              "    }\n",
              "\n",
              "    .dataframe thead th {\n",
              "        text-align: right;\n",
              "    }\n",
              "</style>\n",
              "<table border=\"1\" class=\"dataframe\">\n",
              "  <thead>\n",
              "    <tr style=\"text-align: right;\">\n",
              "      <th></th>\n",
              "      <th>age</th>\n",
              "      <th>inj_dth</th>\n",
              "      <th>childyrs</th>\n",
              "      <th>age_mom</th>\n",
              "      <th>lbw</th>\n",
              "      <th>educ_mom</th>\n",
              "      <th>income</th>\n",
              "      <th>illegit</th>\n",
              "      <th>oth_chld</th>\n",
              "      <th>race_mom</th>\n",
              "      <th>pnclate</th>\n",
              "    </tr>\n",
              "  </thead>\n",
              "  <tbody>\n",
              "    <tr>\n",
              "      <th>0</th>\n",
              "      <td>0</td>\n",
              "      <td>0</td>\n",
              "      <td>28.294319</td>\n",
              "      <td>24</td>\n",
              "      <td>1</td>\n",
              "      <td>15</td>\n",
              "      <td>3</td>\n",
              "      <td>1</td>\n",
              "      <td>0</td>\n",
              "      <td>0</td>\n",
              "      <td>0</td>\n",
              "    </tr>\n",
              "    <tr>\n",
              "      <th>1</th>\n",
              "      <td>0</td>\n",
              "      <td>0</td>\n",
              "      <td>0.091718</td>\n",
              "      <td>24</td>\n",
              "      <td>1</td>\n",
              "      <td>11</td>\n",
              "      <td>2</td>\n",
              "      <td>1</td>\n",
              "      <td>2</td>\n",
              "      <td>0</td>\n",
              "      <td>1</td>\n",
              "    </tr>\n",
              "    <tr>\n",
              "      <th>2</th>\n",
              "      <td>1</td>\n",
              "      <td>0</td>\n",
              "      <td>20.000000</td>\n",
              "      <td>24</td>\n",
              "      <td>1</td>\n",
              "      <td>15</td>\n",
              "      <td>3</td>\n",
              "      <td>0</td>\n",
              "      <td>3</td>\n",
              "      <td>0</td>\n",
              "      <td>0</td>\n",
              "    </tr>\n",
              "    <tr>\n",
              "      <th>3</th>\n",
              "      <td>0</td>\n",
              "      <td>0</td>\n",
              "      <td>10.000000</td>\n",
              "      <td>30</td>\n",
              "      <td>1</td>\n",
              "      <td>16</td>\n",
              "      <td>1</td>\n",
              "      <td>1</td>\n",
              "      <td>2</td>\n",
              "      <td>1</td>\n",
              "      <td>0</td>\n",
              "    </tr>\n",
              "    <tr>\n",
              "      <th>4</th>\n",
              "      <td>0</td>\n",
              "      <td>0</td>\n",
              "      <td>10.000000</td>\n",
              "      <td>30</td>\n",
              "      <td>1</td>\n",
              "      <td>12</td>\n",
              "      <td>3</td>\n",
              "      <td>1</td>\n",
              "      <td>0</td>\n",
              "      <td>1</td>\n",
              "      <td>0</td>\n",
              "    </tr>\n",
              "    <tr>\n",
              "      <th>...</th>\n",
              "      <td>...</td>\n",
              "      <td>...</td>\n",
              "      <td>...</td>\n",
              "      <td>...</td>\n",
              "      <td>...</td>\n",
              "      <td>...</td>\n",
              "      <td>...</td>\n",
              "      <td>...</td>\n",
              "      <td>...</td>\n",
              "      <td>...</td>\n",
              "      <td>...</td>\n",
              "    </tr>\n",
              "    <tr>\n",
              "      <th>15181</th>\n",
              "      <td>4</td>\n",
              "      <td>0</td>\n",
              "      <td>18.535250</td>\n",
              "      <td>19</td>\n",
              "      <td>1</td>\n",
              "      <td>12</td>\n",
              "      <td>2</td>\n",
              "      <td>1</td>\n",
              "      <td>0</td>\n",
              "      <td>1</td>\n",
              "      <td>1</td>\n",
              "    </tr>\n",
              "    <tr>\n",
              "      <th>15182</th>\n",
              "      <td>0</td>\n",
              "      <td>0</td>\n",
              "      <td>31.711157</td>\n",
              "      <td>24</td>\n",
              "      <td>0</td>\n",
              "      <td>11</td>\n",
              "      <td>5</td>\n",
              "      <td>1</td>\n",
              "      <td>1</td>\n",
              "      <td>0</td>\n",
              "      <td>1</td>\n",
              "    </tr>\n",
              "    <tr>\n",
              "      <th>15183</th>\n",
              "      <td>2</td>\n",
              "      <td>0</td>\n",
              "      <td>23.915127</td>\n",
              "      <td>30</td>\n",
              "      <td>0</td>\n",
              "      <td>16</td>\n",
              "      <td>4</td>\n",
              "      <td>0</td>\n",
              "      <td>0</td>\n",
              "      <td>0</td>\n",
              "      <td>1</td>\n",
              "    </tr>\n",
              "    <tr>\n",
              "      <th>15184</th>\n",
              "      <td>0</td>\n",
              "      <td>0</td>\n",
              "      <td>15.544147</td>\n",
              "      <td>29</td>\n",
              "      <td>0</td>\n",
              "      <td>16</td>\n",
              "      <td>1</td>\n",
              "      <td>1</td>\n",
              "      <td>1</td>\n",
              "      <td>1</td>\n",
              "      <td>1</td>\n",
              "    </tr>\n",
              "    <tr>\n",
              "      <th>15185</th>\n",
              "      <td>2</td>\n",
              "      <td>0</td>\n",
              "      <td>10.000000</td>\n",
              "      <td>24</td>\n",
              "      <td>0</td>\n",
              "      <td>12</td>\n",
              "      <td>4</td>\n",
              "      <td>0</td>\n",
              "      <td>1</td>\n",
              "      <td>1</td>\n",
              "      <td>1</td>\n",
              "    </tr>\n",
              "  </tbody>\n",
              "</table>\n",
              "<p>15186 rows × 11 columns</p>\n",
              "</div>"
            ],
            "text/plain": [
              "       age  inj_dth   childyrs  age_mom  ...  illegit  oth_chld  race_mom  pnclate\n",
              "0        0        0  28.294319       24  ...        1         0         0        0\n",
              "1        0        0   0.091718       24  ...        1         2         0        1\n",
              "2        1        0  20.000000       24  ...        0         3         0        0\n",
              "3        0        0  10.000000       30  ...        1         2         1        0\n",
              "4        0        0  10.000000       30  ...        1         0         1        0\n",
              "...    ...      ...        ...      ...  ...      ...       ...       ...      ...\n",
              "15181    4        0  18.535250       19  ...        1         0         1        1\n",
              "15182    0        0  31.711157       24  ...        1         1         0        1\n",
              "15183    2        0  23.915127       30  ...        0         0         0        1\n",
              "15184    0        0  15.544147       29  ...        1         1         1        1\n",
              "15185    2        0  10.000000       24  ...        0         1         1        1\n",
              "\n",
              "[15186 rows x 11 columns]"
            ]
          },
          "metadata": {},
          "execution_count": 9
        }
      ]
    },
    {
      "cell_type": "markdown",
      "metadata": {
        "id": "yG81dkUMVQfp"
      },
      "source": [
        "Нормування даних"
      ]
    },
    {
      "cell_type": "code",
      "metadata": {
        "colab": {
          "base_uri": "https://localhost:8080/",
          "height": 419
        },
        "id": "AjeBp7ekVS9K",
        "outputId": "10f30cf1-b37d-4a15-fa3b-387e3f17b4dd"
      },
      "source": [
        "def df_dataset():\n",
        "  df = pd.read_excel(f\"InjuryDeath.xlsx\",)\n",
        "  df = df.dropna()\n",
        "  for col_name in df.columns.tolist():\n",
        "        df[col_name] = (df[col_name] - np.min(df[col_name])) / (np.max(df[col_name]) - np.min(df[col_name]))\n",
        "\n",
        "  points = df[['childyrs', 'oth_chld', 'lbw']].values\n",
        "\n",
        "  return df, points\n",
        "\n",
        "df_dataset()[0]"
      ],
      "execution_count": null,
      "outputs": [
        {
          "output_type": "execute_result",
          "data": {
            "text/html": [
              "<div>\n",
              "<style scoped>\n",
              "    .dataframe tbody tr th:only-of-type {\n",
              "        vertical-align: middle;\n",
              "    }\n",
              "\n",
              "    .dataframe tbody tr th {\n",
              "        vertical-align: top;\n",
              "    }\n",
              "\n",
              "    .dataframe thead th {\n",
              "        text-align: right;\n",
              "    }\n",
              "</style>\n",
              "<table border=\"1\" class=\"dataframe\">\n",
              "  <thead>\n",
              "    <tr style=\"text-align: right;\">\n",
              "      <th></th>\n",
              "      <th>age</th>\n",
              "      <th>inj_dth</th>\n",
              "      <th>childyrs</th>\n",
              "      <th>age_mom</th>\n",
              "      <th>lbw</th>\n",
              "      <th>educ_mom</th>\n",
              "      <th>income</th>\n",
              "      <th>illegit</th>\n",
              "      <th>oth_chld</th>\n",
              "      <th>race_mom</th>\n",
              "      <th>pnclate</th>\n",
              "    </tr>\n",
              "  </thead>\n",
              "  <tbody>\n",
              "    <tr>\n",
              "      <th>0</th>\n",
              "      <td>0.00</td>\n",
              "      <td>0.0</td>\n",
              "      <td>0.004531</td>\n",
              "      <td>0.454545</td>\n",
              "      <td>1.0</td>\n",
              "      <td>0.8</td>\n",
              "      <td>0.50</td>\n",
              "      <td>1.0</td>\n",
              "      <td>0.00</td>\n",
              "      <td>0.0</td>\n",
              "      <td>0.0</td>\n",
              "    </tr>\n",
              "    <tr>\n",
              "      <th>1</th>\n",
              "      <td>0.00</td>\n",
              "      <td>0.0</td>\n",
              "      <td>0.000015</td>\n",
              "      <td>0.454545</td>\n",
              "      <td>1.0</td>\n",
              "      <td>0.0</td>\n",
              "      <td>0.25</td>\n",
              "      <td>1.0</td>\n",
              "      <td>0.50</td>\n",
              "      <td>0.0</td>\n",
              "      <td>1.0</td>\n",
              "    </tr>\n",
              "    <tr>\n",
              "      <th>2</th>\n",
              "      <td>0.25</td>\n",
              "      <td>0.0</td>\n",
              "      <td>0.003203</td>\n",
              "      <td>0.454545</td>\n",
              "      <td>1.0</td>\n",
              "      <td>0.8</td>\n",
              "      <td>0.50</td>\n",
              "      <td>0.0</td>\n",
              "      <td>0.75</td>\n",
              "      <td>0.0</td>\n",
              "      <td>0.0</td>\n",
              "    </tr>\n",
              "    <tr>\n",
              "      <th>3</th>\n",
              "      <td>0.00</td>\n",
              "      <td>0.0</td>\n",
              "      <td>0.001601</td>\n",
              "      <td>1.000000</td>\n",
              "      <td>1.0</td>\n",
              "      <td>1.0</td>\n",
              "      <td>0.00</td>\n",
              "      <td>1.0</td>\n",
              "      <td>0.50</td>\n",
              "      <td>1.0</td>\n",
              "      <td>0.0</td>\n",
              "    </tr>\n",
              "    <tr>\n",
              "      <th>4</th>\n",
              "      <td>0.00</td>\n",
              "      <td>0.0</td>\n",
              "      <td>0.001601</td>\n",
              "      <td>1.000000</td>\n",
              "      <td>1.0</td>\n",
              "      <td>0.2</td>\n",
              "      <td>0.50</td>\n",
              "      <td>1.0</td>\n",
              "      <td>0.00</td>\n",
              "      <td>1.0</td>\n",
              "      <td>0.0</td>\n",
              "    </tr>\n",
              "    <tr>\n",
              "      <th>...</th>\n",
              "      <td>...</td>\n",
              "      <td>...</td>\n",
              "      <td>...</td>\n",
              "      <td>...</td>\n",
              "      <td>...</td>\n",
              "      <td>...</td>\n",
              "      <td>...</td>\n",
              "      <td>...</td>\n",
              "      <td>...</td>\n",
              "      <td>...</td>\n",
              "      <td>...</td>\n",
              "    </tr>\n",
              "    <tr>\n",
              "      <th>15181</th>\n",
              "      <td>1.00</td>\n",
              "      <td>0.0</td>\n",
              "      <td>0.002968</td>\n",
              "      <td>0.000000</td>\n",
              "      <td>1.0</td>\n",
              "      <td>0.2</td>\n",
              "      <td>0.25</td>\n",
              "      <td>1.0</td>\n",
              "      <td>0.00</td>\n",
              "      <td>1.0</td>\n",
              "      <td>1.0</td>\n",
              "    </tr>\n",
              "    <tr>\n",
              "      <th>15182</th>\n",
              "      <td>0.00</td>\n",
              "      <td>0.0</td>\n",
              "      <td>0.005078</td>\n",
              "      <td>0.454545</td>\n",
              "      <td>0.0</td>\n",
              "      <td>0.0</td>\n",
              "      <td>1.00</td>\n",
              "      <td>1.0</td>\n",
              "      <td>0.25</td>\n",
              "      <td>0.0</td>\n",
              "      <td>1.0</td>\n",
              "    </tr>\n",
              "    <tr>\n",
              "      <th>15183</th>\n",
              "      <td>0.50</td>\n",
              "      <td>0.0</td>\n",
              "      <td>0.003830</td>\n",
              "      <td>1.000000</td>\n",
              "      <td>0.0</td>\n",
              "      <td>1.0</td>\n",
              "      <td>0.75</td>\n",
              "      <td>0.0</td>\n",
              "      <td>0.00</td>\n",
              "      <td>0.0</td>\n",
              "      <td>1.0</td>\n",
              "    </tr>\n",
              "    <tr>\n",
              "      <th>15184</th>\n",
              "      <td>0.00</td>\n",
              "      <td>0.0</td>\n",
              "      <td>0.002489</td>\n",
              "      <td>0.909091</td>\n",
              "      <td>0.0</td>\n",
              "      <td>1.0</td>\n",
              "      <td>0.00</td>\n",
              "      <td>1.0</td>\n",
              "      <td>0.25</td>\n",
              "      <td>1.0</td>\n",
              "      <td>1.0</td>\n",
              "    </tr>\n",
              "    <tr>\n",
              "      <th>15185</th>\n",
              "      <td>0.50</td>\n",
              "      <td>0.0</td>\n",
              "      <td>0.001601</td>\n",
              "      <td>0.454545</td>\n",
              "      <td>0.0</td>\n",
              "      <td>0.2</td>\n",
              "      <td>0.75</td>\n",
              "      <td>0.0</td>\n",
              "      <td>0.25</td>\n",
              "      <td>1.0</td>\n",
              "      <td>1.0</td>\n",
              "    </tr>\n",
              "  </tbody>\n",
              "</table>\n",
              "<p>15186 rows × 11 columns</p>\n",
              "</div>"
            ],
            "text/plain": [
              "        age  inj_dth  childyrs   age_mom  ...  illegit  oth_chld  race_mom  pnclate\n",
              "0      0.00      0.0  0.004531  0.454545  ...      1.0      0.00       0.0      0.0\n",
              "1      0.00      0.0  0.000015  0.454545  ...      1.0      0.50       0.0      1.0\n",
              "2      0.25      0.0  0.003203  0.454545  ...      0.0      0.75       0.0      0.0\n",
              "3      0.00      0.0  0.001601  1.000000  ...      1.0      0.50       1.0      0.0\n",
              "4      0.00      0.0  0.001601  1.000000  ...      1.0      0.00       1.0      0.0\n",
              "...     ...      ...       ...       ...  ...      ...       ...       ...      ...\n",
              "15181  1.00      0.0  0.002968  0.000000  ...      1.0      0.00       1.0      1.0\n",
              "15182  0.00      0.0  0.005078  0.454545  ...      1.0      0.25       0.0      1.0\n",
              "15183  0.50      0.0  0.003830  1.000000  ...      0.0      0.00       0.0      1.0\n",
              "15184  0.00      0.0  0.002489  0.909091  ...      1.0      0.25       1.0      1.0\n",
              "15185  0.50      0.0  0.001601  0.454545  ...      0.0      0.25       1.0      1.0\n",
              "\n",
              "[15186 rows x 11 columns]"
            ]
          },
          "metadata": {},
          "execution_count": 10
        }
      ]
    },
    {
      "cell_type": "markdown",
      "metadata": {
        "id": "WZOl4k4wAxhF"
      },
      "source": [
        "Бачимо, що у даному датасетi даних дуже багато, а саме 15 тисяч рядкiв"
      ]
    },
    {
      "cell_type": "code",
      "metadata": {
        "id": "CZgkqpgT5T1q"
      },
      "source": [
        "def df_dataset():\n",
        "  df = pd.read_excel(f\"InjuryDeath.xlsx\", usecols = ['childyrs', 'oth_chld', 'lbw'])\n",
        "  df = df.dropna()\n",
        "  columns = df.columns.tolist()\n",
        "  for col in df.columns.tolist():\n",
        "        df[col] = (df[col] - np.min(df[col])) / (np.max(df[col]) - np.min(df[col]))\n",
        "\n",
        "  return df, df.columns.tolist(), df.values"
      ],
      "execution_count": null,
      "outputs": []
    },
    {
      "cell_type": "markdown",
      "metadata": {
        "id": "85uOJgTaBHdc"
      },
      "source": [
        "У ходi експериментiв з'ясувалося, що при 15к даних алгоритм працюе досить довго, тому аби краще його реалiзувати та проаналiзувати декiлька варiантiв отриманих данних, було вирiшено обрати випадковi 1000 об'ектiв з датасете"
      ]
    },
    {
      "cell_type": "code",
      "metadata": {
        "colab": {
          "base_uri": "https://localhost:8080/",
          "height": 419
        },
        "id": "lRVLHwj-5U2Q",
        "outputId": "d84e320d-aa6d-4f5b-88fb-3ac4b998909a"
      },
      "source": [
        "data, col, points = df_dataset()\n",
        "\n",
        "random_choice = np.random.choice(list(range(data.shape[0])), 1000)\n",
        "\n",
        "index = []\n",
        "\n",
        "for i in random_choice:\n",
        "    index.append(i)\n",
        "\n",
        "\n",
        "df = pd.DataFrame(data, index=index, columns=col)\n",
        "\n",
        "df"
      ],
      "execution_count": null,
      "outputs": [
        {
          "output_type": "execute_result",
          "data": {
            "text/html": [
              "<div>\n",
              "<style scoped>\n",
              "    .dataframe tbody tr th:only-of-type {\n",
              "        vertical-align: middle;\n",
              "    }\n",
              "\n",
              "    .dataframe tbody tr th {\n",
              "        vertical-align: top;\n",
              "    }\n",
              "\n",
              "    .dataframe thead th {\n",
              "        text-align: right;\n",
              "    }\n",
              "</style>\n",
              "<table border=\"1\" class=\"dataframe\">\n",
              "  <thead>\n",
              "    <tr style=\"text-align: right;\">\n",
              "      <th></th>\n",
              "      <th>childyrs</th>\n",
              "      <th>lbw</th>\n",
              "      <th>oth_chld</th>\n",
              "    </tr>\n",
              "  </thead>\n",
              "  <tbody>\n",
              "    <tr>\n",
              "      <th>8085</th>\n",
              "      <td>0.003203</td>\n",
              "      <td>0.0</td>\n",
              "      <td>0.75</td>\n",
              "    </tr>\n",
              "    <tr>\n",
              "      <th>10524</th>\n",
              "      <td>0.004801</td>\n",
              "      <td>0.0</td>\n",
              "      <td>0.50</td>\n",
              "    </tr>\n",
              "    <tr>\n",
              "      <th>8163</th>\n",
              "      <td>0.001602</td>\n",
              "      <td>1.0</td>\n",
              "      <td>0.75</td>\n",
              "    </tr>\n",
              "    <tr>\n",
              "      <th>9161</th>\n",
              "      <td>0.006687</td>\n",
              "      <td>1.0</td>\n",
              "      <td>0.50</td>\n",
              "    </tr>\n",
              "    <tr>\n",
              "      <th>12037</th>\n",
              "      <td>0.002614</td>\n",
              "      <td>0.0</td>\n",
              "      <td>0.25</td>\n",
              "    </tr>\n",
              "    <tr>\n",
              "      <th>...</th>\n",
              "      <td>...</td>\n",
              "      <td>...</td>\n",
              "      <td>...</td>\n",
              "    </tr>\n",
              "    <tr>\n",
              "      <th>6702</th>\n",
              "      <td>0.001601</td>\n",
              "      <td>0.0</td>\n",
              "      <td>0.50</td>\n",
              "    </tr>\n",
              "    <tr>\n",
              "      <th>5600</th>\n",
              "      <td>0.001601</td>\n",
              "      <td>1.0</td>\n",
              "      <td>0.75</td>\n",
              "    </tr>\n",
              "    <tr>\n",
              "      <th>6528</th>\n",
              "      <td>0.057548</td>\n",
              "      <td>0.0</td>\n",
              "      <td>0.00</td>\n",
              "    </tr>\n",
              "    <tr>\n",
              "      <th>14807</th>\n",
              "      <td>0.008001</td>\n",
              "      <td>1.0</td>\n",
              "      <td>0.75</td>\n",
              "    </tr>\n",
              "    <tr>\n",
              "      <th>3074</th>\n",
              "      <td>0.007408</td>\n",
              "      <td>0.0</td>\n",
              "      <td>0.75</td>\n",
              "    </tr>\n",
              "  </tbody>\n",
              "</table>\n",
              "<p>1000 rows × 3 columns</p>\n",
              "</div>"
            ],
            "text/plain": [
              "       childyrs  lbw  oth_chld\n",
              "8085   0.003203  0.0      0.75\n",
              "10524  0.004801  0.0      0.50\n",
              "8163   0.001602  1.0      0.75\n",
              "9161   0.006687  1.0      0.50\n",
              "12037  0.002614  0.0      0.25\n",
              "...         ...  ...       ...\n",
              "6702   0.001601  0.0      0.50\n",
              "5600   0.001601  1.0      0.75\n",
              "6528   0.057548  0.0      0.00\n",
              "14807  0.008001  1.0      0.75\n",
              "3074   0.007408  0.0      0.75\n",
              "\n",
              "[1000 rows x 3 columns]"
            ]
          },
          "metadata": {},
          "execution_count": 34
        }
      ]
    },
    {
      "cell_type": "markdown",
      "metadata": {
        "id": "vUeKQA7kVflp"
      },
      "source": [
        "Обираємо метрику евклідовоіі  відстані та функцію знаходження мінімального індексу"
      ]
    },
    {
      "cell_type": "code",
      "metadata": {
        "id": "UxD-h8k6Cz3W"
      },
      "source": [
        "def euclidean(p1, p2):\n",
        "    dist = 0\n",
        "    for i in range(len(p1)):\n",
        "        dist += (p1[i] - p2[i]) ** 2\n",
        "    return dist ** 0.5\n",
        "\n",
        "def connecting(point, array):\n",
        "    min_dist = 1000000\n",
        "    for i in range(array.shape[0]):\n",
        "        dist = euclidean(point, array[i])\n",
        "        if dist < min_dist:\n",
        "            min_dist = dist\n",
        "            min_index = i\n",
        "    return min_index"
      ],
      "execution_count": null,
      "outputs": []
    },
    {
      "cell_type": "markdown",
      "metadata": {
        "id": "uY_1VubHEH1A"
      },
      "source": [
        "Реалiзацiя алгоритму"
      ]
    },
    {
      "cell_type": "code",
      "metadata": {
        "colab": {
          "base_uri": "https://localhost:8080/",
          "height": 453
        },
        "id": "AkE6ZDapKIRP",
        "outputId": "3f5efae9-2aaa-492f-c246-55aeb7ba4cf4"
      },
      "source": [
        "norm_df = df\n",
        "count_clusters = 5\n",
        "cols = norm_df.columns.tolist()\n",
        "\n",
        "array = norm_df.values\n",
        "\n",
        "points = [] \n",
        "indices_1 = [] \n",
        "indices_2 = []  \n",
        "rand_index = np.random.randint(low=0, high=norm_df.shape[0] - 1)\n",
        "indices_1.append(rand_index)\n",
        "actual_array = copy.deepcopy(array)\n",
        "points.append(actual_array[rand_index])\n",
        "actual_array = np.delete(arr=actual_array, obj=rand_index, axis=0)\n",
        "dists = []\n",
        "while len(points) < norm_df.shape[0]:\n",
        "    index = connecting(points[-1], actual_array)\n",
        "    index_from_init = np.where(np.all(array == actual_array[index], axis=1))[0][0]\n",
        "    indices_1.append(index_from_init)\n",
        "    indices_2.append(index_from_init)\n",
        "    points.append(actual_array[index])\n",
        "    dists.append(euclidean(points[-1], points[-2]))\n",
        "    actual_array = np.delete(arr=actual_array, obj=index, axis=0)\n",
        "del indices_1[-1]\n",
        "df = pd.DataFrame({'1': indices_1, '2': indices_2, 'Dist': dists})\n",
        "print()\n",
        "print('Clusters: ', count_clusters)\n",
        "df"
      ],
      "execution_count": null,
      "outputs": [
        {
          "output_type": "stream",
          "name": "stdout",
          "text": [
            "\n",
            "Clusters:  5\n"
          ]
        },
        {
          "output_type": "execute_result",
          "data": {
            "text/html": [
              "<div>\n",
              "<style scoped>\n",
              "    .dataframe tbody tr th:only-of-type {\n",
              "        vertical-align: middle;\n",
              "    }\n",
              "\n",
              "    .dataframe tbody tr th {\n",
              "        vertical-align: top;\n",
              "    }\n",
              "\n",
              "    .dataframe thead th {\n",
              "        text-align: right;\n",
              "    }\n",
              "</style>\n",
              "<table border=\"1\" class=\"dataframe\">\n",
              "  <thead>\n",
              "    <tr style=\"text-align: right;\">\n",
              "      <th></th>\n",
              "      <th>1</th>\n",
              "      <th>2</th>\n",
              "      <th>Dist</th>\n",
              "    </tr>\n",
              "  </thead>\n",
              "  <tbody>\n",
              "    <tr>\n",
              "      <th>0</th>\n",
              "      <td>153</td>\n",
              "      <td>153</td>\n",
              "      <td>0.000000</td>\n",
              "    </tr>\n",
              "    <tr>\n",
              "      <th>1</th>\n",
              "      <td>153</td>\n",
              "      <td>660</td>\n",
              "      <td>4.007860</td>\n",
              "    </tr>\n",
              "    <tr>\n",
              "      <th>2</th>\n",
              "      <td>660</td>\n",
              "      <td>548</td>\n",
              "      <td>16.007826</td>\n",
              "    </tr>\n",
              "    <tr>\n",
              "      <th>3</th>\n",
              "      <td>548</td>\n",
              "      <td>226</td>\n",
              "      <td>9.003481</td>\n",
              "    </tr>\n",
              "    <tr>\n",
              "      <th>4</th>\n",
              "      <td>226</td>\n",
              "      <td>875</td>\n",
              "      <td>34.005016</td>\n",
              "    </tr>\n",
              "    <tr>\n",
              "      <th>...</th>\n",
              "      <td>...</td>\n",
              "      <td>...</td>\n",
              "      <td>...</td>\n",
              "    </tr>\n",
              "    <tr>\n",
              "      <th>994</th>\n",
              "      <td>706</td>\n",
              "      <td>441</td>\n",
              "      <td>8.066135</td>\n",
              "    </tr>\n",
              "    <tr>\n",
              "      <th>995</th>\n",
              "      <td>441</td>\n",
              "      <td>210</td>\n",
              "      <td>1.500000</td>\n",
              "    </tr>\n",
              "    <tr>\n",
              "      <th>996</th>\n",
              "      <td>210</td>\n",
              "      <td>757</td>\n",
              "      <td>5.000000</td>\n",
              "    </tr>\n",
              "    <tr>\n",
              "      <th>997</th>\n",
              "      <td>757</td>\n",
              "      <td>214</td>\n",
              "      <td>3.092333</td>\n",
              "    </tr>\n",
              "    <tr>\n",
              "      <th>998</th>\n",
              "      <td>214</td>\n",
              "      <td>214</td>\n",
              "      <td>0.000000</td>\n",
              "    </tr>\n",
              "  </tbody>\n",
              "</table>\n",
              "<p>999 rows × 3 columns</p>\n",
              "</div>"
            ],
            "text/plain": [
              "       1    2       Dist\n",
              "0    153  153   0.000000\n",
              "1    153  660   4.007860\n",
              "2    660  548  16.007826\n",
              "3    548  226   9.003481\n",
              "4    226  875  34.005016\n",
              "..   ...  ...        ...\n",
              "994  706  441   8.066135\n",
              "995  441  210   1.500000\n",
              "996  210  757   5.000000\n",
              "997  757  214   3.092333\n",
              "998  214  214   0.000000\n",
              "\n",
              "[999 rows x 3 columns]"
            ]
          },
          "metadata": {},
          "execution_count": 36
        }
      ]
    },
    {
      "cell_type": "markdown",
      "metadata": {
        "id": "KT-TfFK4MZDM"
      },
      "source": [
        "Знаходження найдовших ребер графу"
      ]
    },
    {
      "cell_type": "code",
      "metadata": {
        "id": "vDM5d8xvMfvM"
      },
      "source": [
        "df = df.reset_index()\n",
        "df = df.sort_values(by=['Dist'], ascending=False)\n",
        "longest_dists_indices = list(df['index'].values)[:count_clusters]\n",
        "longest_dists_indices.sort()\n",
        "true_false = []\n",
        "df = df.sort_values(by=['index'])\n",
        "df = df.drop(columns=['index'])"
      ],
      "execution_count": null,
      "outputs": []
    },
    {
      "cell_type": "markdown",
      "metadata": {
        "id": "7GGmkMprMiDJ"
      },
      "source": [
        "Створення кластерiв"
      ]
    },
    {
      "cell_type": "code",
      "metadata": {
        "id": "HhfOEWCcMyzO"
      },
      "source": [
        "clusters = []\n",
        "clusters_dists = []\n",
        "if count_clusters > 2:\n",
        "    for i in range(count_clusters):\n",
        "        if i == 0:\n",
        "            clusters.append(points[:longest_dists_indices[i] + 1])\n",
        "            clusters_dists.append(dists[:longest_dists_indices[i]])\n",
        "        elif i == count_clusters - 1:\n",
        "            clusters.append(points[longest_dists_indices[i] + 1:])\n",
        "            clusters_dists.append(dists[longest_dists_indices[i] + 1:])\n",
        "        else:\n",
        "            clusters.append(points[longest_dists_indices[i - 1] + 1:longest_dists_indices[i] + 1])\n",
        "            clusters_dists.append(dists[longest_dists_indices[i - 1] + 1:longest_dists_indices[i]])\n",
        "else:\n",
        "    clusters.append(points[:longest_dists_indices[i] + 1])\n",
        "    clusters.append(points[longest_dists_indices[i] + 1:])\n",
        "    clusters_dists.append(dists[:longest_dists_indices[i]])\n",
        "    clusters_dists.append(dists[longest_dists_indices[i] + 1:])\n",
        "final_df = []\n",
        "clusters_list = []\n",
        "for i in range(count_clusters):\n",
        "    for j in range(len(clusters[i])):\n",
        "        final_df.append(list(clusters[i][j]))\n",
        "        clusters_list.append(i + 1)\n",
        "final_df = pd.DataFrame(final_df, columns=cols)\n",
        "final_df['Clusters'] = clusters_list"
      ],
      "execution_count": null,
      "outputs": []
    },
    {
      "cell_type": "code",
      "metadata": {
        "colab": {
          "base_uri": "https://localhost:8080/",
          "height": 419
        },
        "id": "M1KmGWkEM8Lw",
        "outputId": "3bc8e098-221b-4902-a914-165d0cf2b970"
      },
      "source": [
        "final_df"
      ],
      "execution_count": null,
      "outputs": [
        {
          "output_type": "execute_result",
          "data": {
            "text/html": [
              "<div>\n",
              "<style scoped>\n",
              "    .dataframe tbody tr th:only-of-type {\n",
              "        vertical-align: middle;\n",
              "    }\n",
              "\n",
              "    .dataframe tbody tr th {\n",
              "        vertical-align: top;\n",
              "    }\n",
              "\n",
              "    .dataframe thead th {\n",
              "        text-align: right;\n",
              "    }\n",
              "</style>\n",
              "<table border=\"1\" class=\"dataframe\">\n",
              "  <thead>\n",
              "    <tr style=\"text-align: right;\">\n",
              "      <th></th>\n",
              "      <th>index</th>\n",
              "      <th>childyrs</th>\n",
              "      <th>lbw</th>\n",
              "      <th>oth_chld</th>\n",
              "      <th>Clusters</th>\n",
              "    </tr>\n",
              "  </thead>\n",
              "  <tbody>\n",
              "    <tr>\n",
              "      <th>0</th>\n",
              "      <td>421.0</td>\n",
              "      <td>0.004584</td>\n",
              "      <td>0.0</td>\n",
              "      <td>0.50</td>\n",
              "      <td>1</td>\n",
              "    </tr>\n",
              "    <tr>\n",
              "      <th>1</th>\n",
              "      <td>421.0</td>\n",
              "      <td>0.004584</td>\n",
              "      <td>0.0</td>\n",
              "      <td>0.50</td>\n",
              "      <td>1</td>\n",
              "    </tr>\n",
              "    <tr>\n",
              "      <th>2</th>\n",
              "      <td>425.0</td>\n",
              "      <td>0.025519</td>\n",
              "      <td>0.0</td>\n",
              "      <td>0.75</td>\n",
              "      <td>1</td>\n",
              "    </tr>\n",
              "    <tr>\n",
              "      <th>3</th>\n",
              "      <td>409.0</td>\n",
              "      <td>0.003203</td>\n",
              "      <td>0.0</td>\n",
              "      <td>0.25</td>\n",
              "      <td>1</td>\n",
              "    </tr>\n",
              "    <tr>\n",
              "      <th>4</th>\n",
              "      <td>400.0</td>\n",
              "      <td>0.015954</td>\n",
              "      <td>0.0</td>\n",
              "      <td>0.50</td>\n",
              "      <td>1</td>\n",
              "    </tr>\n",
              "    <tr>\n",
              "      <th>...</th>\n",
              "      <td>...</td>\n",
              "      <td>...</td>\n",
              "      <td>...</td>\n",
              "      <td>...</td>\n",
              "      <td>...</td>\n",
              "    </tr>\n",
              "    <tr>\n",
              "      <th>710</th>\n",
              "      <td>15161.0</td>\n",
              "      <td>0.001601</td>\n",
              "      <td>1.0</td>\n",
              "      <td>0.50</td>\n",
              "      <td>5</td>\n",
              "    </tr>\n",
              "    <tr>\n",
              "      <th>711</th>\n",
              "      <td>15162.0</td>\n",
              "      <td>0.002806</td>\n",
              "      <td>0.0</td>\n",
              "      <td>1.00</td>\n",
              "      <td>5</td>\n",
              "    </tr>\n",
              "    <tr>\n",
              "      <th>712</th>\n",
              "      <td>15167.0</td>\n",
              "      <td>0.001748</td>\n",
              "      <td>0.0</td>\n",
              "      <td>1.00</td>\n",
              "      <td>5</td>\n",
              "    </tr>\n",
              "    <tr>\n",
              "      <th>713</th>\n",
              "      <td>15170.0</td>\n",
              "      <td>0.006402</td>\n",
              "      <td>0.0</td>\n",
              "      <td>0.25</td>\n",
              "      <td>5</td>\n",
              "    </tr>\n",
              "    <tr>\n",
              "      <th>714</th>\n",
              "      <td>15170.0</td>\n",
              "      <td>0.006402</td>\n",
              "      <td>0.0</td>\n",
              "      <td>0.25</td>\n",
              "      <td>5</td>\n",
              "    </tr>\n",
              "  </tbody>\n",
              "</table>\n",
              "<p>715 rows × 5 columns</p>\n",
              "</div>"
            ],
            "text/plain": [
              "       index  childyrs  lbw  oth_chld  Clusters\n",
              "0      421.0  0.004584  0.0      0.50         1\n",
              "1      421.0  0.004584  0.0      0.50         1\n",
              "2      425.0  0.025519  0.0      0.75         1\n",
              "3      409.0  0.003203  0.0      0.25         1\n",
              "4      400.0  0.015954  0.0      0.50         1\n",
              "..       ...       ...  ...       ...       ...\n",
              "710  15161.0  0.001601  1.0      0.50         5\n",
              "711  15162.0  0.002806  0.0      1.00         5\n",
              "712  15167.0  0.001748  0.0      1.00         5\n",
              "713  15170.0  0.006402  0.0      0.25         5\n",
              "714  15170.0  0.006402  0.0      0.25         5\n",
              "\n",
              "[715 rows x 5 columns]"
            ]
          },
          "metadata": {},
          "execution_count": 42
        }
      ]
    },
    {
      "cell_type": "markdown",
      "metadata": {
        "id": "LpQgxfSQNHPA"
      },
      "source": [
        "ВИведення результатiв (F -  критерiй)"
      ]
    },
    {
      "cell_type": "code",
      "metadata": {
        "colab": {
          "base_uri": "https://localhost:8080/"
        },
        "id": "2A-b1TApNYOC",
        "outputId": "871118bf-6349-41bf-daf1-e8a5270f9f93"
      },
      "source": [
        "p = []\n",
        "h_value = 1\n",
        "for i in range(len(clusters)):\n",
        "    p.append(np.mean(clusters_dists[i]))\n",
        "    h_value *= (len(clusters[i]) / array.shape[0])\n",
        "\n",
        "for i in range(len(p)):\n",
        "    print('Cluster', i + 1)\n",
        "    print('p-value: ', p[i])\n",
        "p_value = np.mean(pd.DataFrame(p).dropna())"
      ],
      "execution_count": null,
      "outputs": [
        {
          "output_type": "stream",
          "name": "stdout",
          "text": [
            "Cluster 1\n",
            "p-value:  14.091069519868114\n",
            "Cluster 2\n",
            "p-value:  14.515662914837657\n",
            "Cluster 3\n",
            "p-value:  16.50474119614887\n",
            "Cluster 4\n",
            "p-value:  15.341149021614346\n",
            "Cluster 5\n",
            "p-value:  8.80564980960325\n"
          ]
        }
      ]
    },
    {
      "cell_type": "code",
      "metadata": {
        "colab": {
          "base_uri": "https://localhost:8080/"
        },
        "id": "4JDX5Cm9N3RR",
        "outputId": "4aedd2c7-cdb0-4f77-a243-5f8f3f099b08"
      },
      "source": [
        "p_value[0]"
      ],
      "execution_count": null,
      "outputs": [
        {
          "output_type": "execute_result",
          "data": {
            "text/plain": [
              "13.851654492414449"
            ]
          },
          "metadata": {},
          "execution_count": 49
        }
      ]
    },
    {
      "cell_type": "code",
      "metadata": {
        "colab": {
          "base_uri": "https://localhost:8080/"
        },
        "id": "Go8wOgSZOGkX",
        "outputId": "7d4c044f-8897-47f5-cae6-f1f5d330e966"
      },
      "source": [
        "d = []\n",
        "for i in longest_dists_indices:\n",
        "    d.append(dists[i])\n",
        "d_value = np.mean(d)\n",
        "\n",
        "d_value"
      ],
      "execution_count": null,
      "outputs": [
        {
          "output_type": "execute_result",
          "data": {
            "text/plain": [
              "168.40258981433746"
            ]
          },
          "metadata": {},
          "execution_count": 50
        }
      ]
    },
    {
      "cell_type": "code",
      "metadata": {
        "colab": {
          "base_uri": "https://localhost:8080/"
        },
        "id": "wJYwe_wLOPVk",
        "outputId": "aeb8abe0-074d-4ab9-e88f-d65dcef04848"
      },
      "source": [
        "ind_max = list(dists).index(np.max(dists))\n",
        "lambda_value = dists[ind_max - 1] / dists[ind_max]\n",
        "\n",
        "lambda_value"
      ],
      "execution_count": null,
      "outputs": [
        {
          "output_type": "execute_result",
          "data": {
            "text/plain": [
              "0.03348677100114777"
            ]
          },
          "metadata": {},
          "execution_count": 52
        }
      ]
    },
    {
      "cell_type": "code",
      "metadata": {
        "colab": {
          "base_uri": "https://localhost:8080/"
        },
        "id": "eefC9quZOY8l",
        "outputId": "2a2e3ecf-12bc-4440-c97c-0d1ec63344b2"
      },
      "source": [
        "h_value *= count_clusters ** count_clusters\n",
        "\n",
        "h_value"
      ],
      "execution_count": null,
      "outputs": [
        {
          "output_type": "execute_result",
          "data": {
            "text/plain": [
              "0.022794000075"
            ]
          },
          "metadata": {},
          "execution_count": 53
        }
      ]
    },
    {
      "cell_type": "code",
      "metadata": {
        "colab": {
          "base_uri": "https://localhost:8080/"
        },
        "id": "0iRTVyRiOcM2",
        "outputId": "cfbb84ab-2dda-4686-99b9-5a91cc119b1e"
      },
      "source": [
        "f_value = np.log((d_value * h_value) / (lamda_value * p_value))\n",
        "\n",
        "f_value[0]"
      ],
      "execution_count": null,
      "outputs": [
        {
          "output_type": "execute_result",
          "data": {
            "text/plain": [
              "2.1132996785728357"
            ]
          },
          "metadata": {},
          "execution_count": 59
        }
      ]
    },
    {
      "cell_type": "markdown",
      "metadata": {
        "id": "wNgjqrk7Ousv"
      },
      "source": [
        "# Висновки\n",
        "\n",
        "У данiй роботi було розроблено алгоритм кластерiзацii сiмейства КРАБ. Для пришвидшення розробки та полегшення аналiзу результатiв убло вирiшено зменшити датасет з 15к рядкiв до 1000. \n",
        "\n",
        "Критерiй якостi вийшов досить позитивним для нас (при експериментах та пiд час розробки вiн був ближче до 0 та i зовсiм вiд'емним. Також було обрано 5 кластерiв, так як кiлькiсть даних дуже велика, а судячи по результатам попередньоii лабораторноii работи, було видно, що саме 5 кластерiв з евклiдовою метрикою найкраще справляються з кластерiзацiею на моему датасетi."
      ]
    }
  ]
}