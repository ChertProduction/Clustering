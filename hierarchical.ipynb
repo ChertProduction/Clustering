{
  "nbformat": 4,
  "nbformat_minor": 0,
  "metadata": {
    "colab": {
      "name": "hierarchical.ipynb",
      "provenance": [],
      "collapsed_sections": []
    },
    "kernelspec": {
      "name": "python3",
      "display_name": "Python 3"
    },
    "language_info": {
      "name": "python"
    }
  },
  "cells": [
    {
      "cell_type": "markdown",
      "metadata": {
        "id": "H0T_HVMOj8Nr"
      },
      "source": [
        "# Ієрархічна кластеризація.\n",
        "Черних Максим"
      ]
    },
    {
      "cell_type": "markdown",
      "metadata": {
        "id": "zLi2tPfYkEYl"
      },
      "source": [
        "# Завдання\n",
        "1. Реалізувати ієрархічну кластеризацію.\n",
        "2. Вивести таблицю об'єднання кластерів та дендрограму\n",
        "3. З набору даних відібрати 20 випадкових об'єктів та провести кластерний аналіз.\n",
        "4. Зробити висновки з обов'язковим вказанням оптимальної кількості кластерів.\n"
      ]
    },
    {
      "cell_type": "markdown",
      "metadata": {
        "id": "dzZGWqaNkc2I"
      },
      "source": [
        "# Реалізація алгоритму ієрархічної кластерізації."
      ]
    },
    {
      "cell_type": "markdown",
      "metadata": {
        "id": "wtylmXdflLQc"
      },
      "source": [
        "Iмпортування необхідних для роботи бібліотек"
      ]
    },
    {
      "cell_type": "code",
      "metadata": {
        "id": "AbCO7aVBlNTn"
      },
      "source": [
        "import pandas as pd\n",
        "import matplotlib.pyplot as plt\n",
        "import numpy as np\n",
        "import scipy.cluster.hierarchy as hcluster\n",
        "from sklearn.decomposition import PCA"
      ],
      "execution_count": null,
      "outputs": []
    },
    {
      "cell_type": "markdown",
      "metadata": {
        "id": "KqRNGh_Gtdq5"
      },
      "source": [
        "Завантаження датасету смертності від травм згідно варіанту"
      ]
    },
    {
      "cell_type": "code",
      "metadata": {
        "colab": {
          "base_uri": "https://localhost:8080/",
          "height": 419
        },
        "id": "MWby7yUTtekz",
        "outputId": "6246b9b5-df78-464d-ed8a-78220510f4c6"
      },
      "source": [
        "pd.read_excel(f\"InjuryDeath.xlsx\",)"
      ],
      "execution_count": null,
      "outputs": [
        {
          "output_type": "execute_result",
          "data": {
            "text/html": [
              "<div>\n",
              "<style scoped>\n",
              "    .dataframe tbody tr th:only-of-type {\n",
              "        vertical-align: middle;\n",
              "    }\n",
              "\n",
              "    .dataframe tbody tr th {\n",
              "        vertical-align: top;\n",
              "    }\n",
              "\n",
              "    .dataframe thead th {\n",
              "        text-align: right;\n",
              "    }\n",
              "</style>\n",
              "<table border=\"1\" class=\"dataframe\">\n",
              "  <thead>\n",
              "    <tr style=\"text-align: right;\">\n",
              "      <th></th>\n",
              "      <th>age</th>\n",
              "      <th>inj_dth</th>\n",
              "      <th>childyrs</th>\n",
              "      <th>age_mom</th>\n",
              "      <th>lbw</th>\n",
              "      <th>educ_mom</th>\n",
              "      <th>income</th>\n",
              "      <th>illegit</th>\n",
              "      <th>oth_chld</th>\n",
              "      <th>race_mom</th>\n",
              "      <th>pnclate</th>\n",
              "    </tr>\n",
              "  </thead>\n",
              "  <tbody>\n",
              "    <tr>\n",
              "      <th>0</th>\n",
              "      <td>0</td>\n",
              "      <td>0</td>\n",
              "      <td>28.294319</td>\n",
              "      <td>24</td>\n",
              "      <td>1</td>\n",
              "      <td>15</td>\n",
              "      <td>3</td>\n",
              "      <td>1</td>\n",
              "      <td>0</td>\n",
              "      <td>0</td>\n",
              "      <td>0</td>\n",
              "    </tr>\n",
              "    <tr>\n",
              "      <th>1</th>\n",
              "      <td>0</td>\n",
              "      <td>0</td>\n",
              "      <td>0.091718</td>\n",
              "      <td>24</td>\n",
              "      <td>1</td>\n",
              "      <td>11</td>\n",
              "      <td>2</td>\n",
              "      <td>1</td>\n",
              "      <td>2</td>\n",
              "      <td>0</td>\n",
              "      <td>1</td>\n",
              "    </tr>\n",
              "    <tr>\n",
              "      <th>2</th>\n",
              "      <td>1</td>\n",
              "      <td>0</td>\n",
              "      <td>20.000000</td>\n",
              "      <td>24</td>\n",
              "      <td>1</td>\n",
              "      <td>15</td>\n",
              "      <td>3</td>\n",
              "      <td>0</td>\n",
              "      <td>3</td>\n",
              "      <td>0</td>\n",
              "      <td>0</td>\n",
              "    </tr>\n",
              "    <tr>\n",
              "      <th>3</th>\n",
              "      <td>0</td>\n",
              "      <td>0</td>\n",
              "      <td>10.000000</td>\n",
              "      <td>30</td>\n",
              "      <td>1</td>\n",
              "      <td>16</td>\n",
              "      <td>1</td>\n",
              "      <td>1</td>\n",
              "      <td>2</td>\n",
              "      <td>1</td>\n",
              "      <td>0</td>\n",
              "    </tr>\n",
              "    <tr>\n",
              "      <th>4</th>\n",
              "      <td>0</td>\n",
              "      <td>0</td>\n",
              "      <td>10.000000</td>\n",
              "      <td>30</td>\n",
              "      <td>1</td>\n",
              "      <td>12</td>\n",
              "      <td>3</td>\n",
              "      <td>1</td>\n",
              "      <td>0</td>\n",
              "      <td>1</td>\n",
              "      <td>0</td>\n",
              "    </tr>\n",
              "    <tr>\n",
              "      <th>...</th>\n",
              "      <td>...</td>\n",
              "      <td>...</td>\n",
              "      <td>...</td>\n",
              "      <td>...</td>\n",
              "      <td>...</td>\n",
              "      <td>...</td>\n",
              "      <td>...</td>\n",
              "      <td>...</td>\n",
              "      <td>...</td>\n",
              "      <td>...</td>\n",
              "      <td>...</td>\n",
              "    </tr>\n",
              "    <tr>\n",
              "      <th>15181</th>\n",
              "      <td>4</td>\n",
              "      <td>0</td>\n",
              "      <td>18.535250</td>\n",
              "      <td>19</td>\n",
              "      <td>1</td>\n",
              "      <td>12</td>\n",
              "      <td>2</td>\n",
              "      <td>1</td>\n",
              "      <td>0</td>\n",
              "      <td>1</td>\n",
              "      <td>1</td>\n",
              "    </tr>\n",
              "    <tr>\n",
              "      <th>15182</th>\n",
              "      <td>0</td>\n",
              "      <td>0</td>\n",
              "      <td>31.711157</td>\n",
              "      <td>24</td>\n",
              "      <td>0</td>\n",
              "      <td>11</td>\n",
              "      <td>5</td>\n",
              "      <td>1</td>\n",
              "      <td>1</td>\n",
              "      <td>0</td>\n",
              "      <td>1</td>\n",
              "    </tr>\n",
              "    <tr>\n",
              "      <th>15183</th>\n",
              "      <td>2</td>\n",
              "      <td>0</td>\n",
              "      <td>23.915127</td>\n",
              "      <td>30</td>\n",
              "      <td>0</td>\n",
              "      <td>16</td>\n",
              "      <td>4</td>\n",
              "      <td>0</td>\n",
              "      <td>0</td>\n",
              "      <td>0</td>\n",
              "      <td>1</td>\n",
              "    </tr>\n",
              "    <tr>\n",
              "      <th>15184</th>\n",
              "      <td>0</td>\n",
              "      <td>0</td>\n",
              "      <td>15.544147</td>\n",
              "      <td>29</td>\n",
              "      <td>0</td>\n",
              "      <td>16</td>\n",
              "      <td>1</td>\n",
              "      <td>1</td>\n",
              "      <td>1</td>\n",
              "      <td>1</td>\n",
              "      <td>1</td>\n",
              "    </tr>\n",
              "    <tr>\n",
              "      <th>15185</th>\n",
              "      <td>2</td>\n",
              "      <td>0</td>\n",
              "      <td>10.000000</td>\n",
              "      <td>24</td>\n",
              "      <td>0</td>\n",
              "      <td>12</td>\n",
              "      <td>4</td>\n",
              "      <td>0</td>\n",
              "      <td>1</td>\n",
              "      <td>1</td>\n",
              "      <td>1</td>\n",
              "    </tr>\n",
              "  </tbody>\n",
              "</table>\n",
              "<p>15186 rows × 11 columns</p>\n",
              "</div>"
            ],
            "text/plain": [
              "       age  inj_dth   childyrs  age_mom  ...  illegit  oth_chld  race_mom  pnclate\n",
              "0        0        0  28.294319       24  ...        1         0         0        0\n",
              "1        0        0   0.091718       24  ...        1         2         0        1\n",
              "2        1        0  20.000000       24  ...        0         3         0        0\n",
              "3        0        0  10.000000       30  ...        1         2         1        0\n",
              "4        0        0  10.000000       30  ...        1         0         1        0\n",
              "...    ...      ...        ...      ...  ...      ...       ...       ...      ...\n",
              "15181    4        0  18.535250       19  ...        1         0         1        1\n",
              "15182    0        0  31.711157       24  ...        1         1         0        1\n",
              "15183    2        0  23.915127       30  ...        0         0         0        1\n",
              "15184    0        0  15.544147       29  ...        1         1         1        1\n",
              "15185    2        0  10.000000       24  ...        0         1         1        1\n",
              "\n",
              "[15186 rows x 11 columns]"
            ]
          },
          "metadata": {},
          "execution_count": 2
        }
      ]
    },
    {
      "cell_type": "markdown",
      "metadata": {
        "id": "ebtpemwnF2vs"
      },
      "source": [
        "Нормування даних"
      ]
    },
    {
      "cell_type": "code",
      "metadata": {
        "id": "sWadhs3qubgl"
      },
      "source": [
        "def df_dataset():\n",
        "  df = pd.read_excel(f\"InjuryDeath.xlsx\", usecols = ['childyrs', 'oth_chld', 'lbw'])\n",
        "  df = df.dropna()\n",
        "  columns = df.columns.tolist()\n",
        "  for col in df.columns.tolist():\n",
        "        df[col] = (df[col] - np.min(df[col])) / (np.max(df[col]) - np.min(df[col]))\n",
        "\n",
        "  return df, df.columns.tolist(), df.values"
      ],
      "execution_count": null,
      "outputs": []
    },
    {
      "cell_type": "code",
      "metadata": {
        "colab": {
          "base_uri": "https://localhost:8080/",
          "height": 419
        },
        "id": "weQek2PcwrwI",
        "outputId": "60c32e8b-2b1d-489b-c8b0-1708cb7d4a7a"
      },
      "source": [
        "data, col, points = df_dataset()\n",
        "data"
      ],
      "execution_count": null,
      "outputs": [
        {
          "output_type": "execute_result",
          "data": {
            "text/html": [
              "<div>\n",
              "<style scoped>\n",
              "    .dataframe tbody tr th:only-of-type {\n",
              "        vertical-align: middle;\n",
              "    }\n",
              "\n",
              "    .dataframe tbody tr th {\n",
              "        vertical-align: top;\n",
              "    }\n",
              "\n",
              "    .dataframe thead th {\n",
              "        text-align: right;\n",
              "    }\n",
              "</style>\n",
              "<table border=\"1\" class=\"dataframe\">\n",
              "  <thead>\n",
              "    <tr style=\"text-align: right;\">\n",
              "      <th></th>\n",
              "      <th>childyrs</th>\n",
              "      <th>lbw</th>\n",
              "      <th>oth_chld</th>\n",
              "    </tr>\n",
              "  </thead>\n",
              "  <tbody>\n",
              "    <tr>\n",
              "      <th>0</th>\n",
              "      <td>0.004531</td>\n",
              "      <td>1.0</td>\n",
              "      <td>0.00</td>\n",
              "    </tr>\n",
              "    <tr>\n",
              "      <th>1</th>\n",
              "      <td>0.000015</td>\n",
              "      <td>1.0</td>\n",
              "      <td>0.50</td>\n",
              "    </tr>\n",
              "    <tr>\n",
              "      <th>2</th>\n",
              "      <td>0.003203</td>\n",
              "      <td>1.0</td>\n",
              "      <td>0.75</td>\n",
              "    </tr>\n",
              "    <tr>\n",
              "      <th>3</th>\n",
              "      <td>0.001601</td>\n",
              "      <td>1.0</td>\n",
              "      <td>0.50</td>\n",
              "    </tr>\n",
              "    <tr>\n",
              "      <th>4</th>\n",
              "      <td>0.001601</td>\n",
              "      <td>1.0</td>\n",
              "      <td>0.00</td>\n",
              "    </tr>\n",
              "    <tr>\n",
              "      <th>...</th>\n",
              "      <td>...</td>\n",
              "      <td>...</td>\n",
              "      <td>...</td>\n",
              "    </tr>\n",
              "    <tr>\n",
              "      <th>15181</th>\n",
              "      <td>0.002968</td>\n",
              "      <td>1.0</td>\n",
              "      <td>0.00</td>\n",
              "    </tr>\n",
              "    <tr>\n",
              "      <th>15182</th>\n",
              "      <td>0.005078</td>\n",
              "      <td>0.0</td>\n",
              "      <td>0.25</td>\n",
              "    </tr>\n",
              "    <tr>\n",
              "      <th>15183</th>\n",
              "      <td>0.003830</td>\n",
              "      <td>0.0</td>\n",
              "      <td>0.00</td>\n",
              "    </tr>\n",
              "    <tr>\n",
              "      <th>15184</th>\n",
              "      <td>0.002489</td>\n",
              "      <td>0.0</td>\n",
              "      <td>0.25</td>\n",
              "    </tr>\n",
              "    <tr>\n",
              "      <th>15185</th>\n",
              "      <td>0.001601</td>\n",
              "      <td>0.0</td>\n",
              "      <td>0.25</td>\n",
              "    </tr>\n",
              "  </tbody>\n",
              "</table>\n",
              "<p>15186 rows × 3 columns</p>\n",
              "</div>"
            ],
            "text/plain": [
              "       childyrs  lbw  oth_chld\n",
              "0      0.004531  1.0      0.00\n",
              "1      0.000015  1.0      0.50\n",
              "2      0.003203  1.0      0.75\n",
              "3      0.001601  1.0      0.50\n",
              "4      0.001601  1.0      0.00\n",
              "...         ...  ...       ...\n",
              "15181  0.002968  1.0      0.00\n",
              "15182  0.005078  0.0      0.25\n",
              "15183  0.003830  0.0      0.00\n",
              "15184  0.002489  0.0      0.25\n",
              "15185  0.001601  0.0      0.25\n",
              "\n",
              "[15186 rows x 3 columns]"
            ]
          },
          "metadata": {},
          "execution_count": 16
        }
      ]
    },
    {
      "cell_type": "markdown",
      "metadata": {
        "id": "FDskVAJTFhoT"
      },
      "source": [
        "Вибiрка з 20 випадкових об'єктiв"
      ]
    },
    {
      "cell_type": "code",
      "metadata": {
        "id": "bqype0Imz9eQ"
      },
      "source": [
        "random_choice = np.random.choice(list(range(data.shape[0])), 20)\n",
        "\n",
        "index = []\n",
        "\n",
        "for i in random_choice:\n",
        "    index.append(i)\n",
        "\n",
        "\n",
        "df = pd.DataFrame(data, index=index, columns=col)\n"
      ],
      "execution_count": null,
      "outputs": []
    },
    {
      "cell_type": "code",
      "metadata": {
        "colab": {
          "base_uri": "https://localhost:8080/",
          "height": 669
        },
        "id": "9IB3141V161s",
        "outputId": "0ec652ab-f93f-4f99-b24e-8fd6183557bd"
      },
      "source": [
        "df\n"
      ],
      "execution_count": null,
      "outputs": [
        {
          "output_type": "execute_result",
          "data": {
            "text/html": [
              "<div>\n",
              "<style scoped>\n",
              "    .dataframe tbody tr th:only-of-type {\n",
              "        vertical-align: middle;\n",
              "    }\n",
              "\n",
              "    .dataframe tbody tr th {\n",
              "        vertical-align: top;\n",
              "    }\n",
              "\n",
              "    .dataframe thead th {\n",
              "        text-align: right;\n",
              "    }\n",
              "</style>\n",
              "<table border=\"1\" class=\"dataframe\">\n",
              "  <thead>\n",
              "    <tr style=\"text-align: right;\">\n",
              "      <th></th>\n",
              "      <th>childyrs</th>\n",
              "      <th>lbw</th>\n",
              "      <th>oth_chld</th>\n",
              "    </tr>\n",
              "  </thead>\n",
              "  <tbody>\n",
              "    <tr>\n",
              "      <th>2304</th>\n",
              "      <td>0.018705</td>\n",
              "      <td>0.0</td>\n",
              "      <td>0.00</td>\n",
              "    </tr>\n",
              "    <tr>\n",
              "      <th>7258</th>\n",
              "      <td>0.015497</td>\n",
              "      <td>0.0</td>\n",
              "      <td>0.25</td>\n",
              "    </tr>\n",
              "    <tr>\n",
              "      <th>14695</th>\n",
              "      <td>0.015836</td>\n",
              "      <td>0.0</td>\n",
              "      <td>0.00</td>\n",
              "    </tr>\n",
              "    <tr>\n",
              "      <th>6060</th>\n",
              "      <td>0.003203</td>\n",
              "      <td>0.0</td>\n",
              "      <td>0.50</td>\n",
              "    </tr>\n",
              "    <tr>\n",
              "      <th>7585</th>\n",
              "      <td>0.010127</td>\n",
              "      <td>0.0</td>\n",
              "      <td>0.25</td>\n",
              "    </tr>\n",
              "    <tr>\n",
              "      <th>617</th>\n",
              "      <td>0.026805</td>\n",
              "      <td>0.0</td>\n",
              "      <td>0.25</td>\n",
              "    </tr>\n",
              "    <tr>\n",
              "      <th>704</th>\n",
              "      <td>0.000530</td>\n",
              "      <td>0.0</td>\n",
              "      <td>0.00</td>\n",
              "    </tr>\n",
              "    <tr>\n",
              "      <th>5150</th>\n",
              "      <td>0.093560</td>\n",
              "      <td>0.0</td>\n",
              "      <td>0.00</td>\n",
              "    </tr>\n",
              "    <tr>\n",
              "      <th>6547</th>\n",
              "      <td>0.004804</td>\n",
              "      <td>1.0</td>\n",
              "      <td>0.75</td>\n",
              "    </tr>\n",
              "    <tr>\n",
              "      <th>1020</th>\n",
              "      <td>0.008232</td>\n",
              "      <td>1.0</td>\n",
              "      <td>0.25</td>\n",
              "    </tr>\n",
              "    <tr>\n",
              "      <th>9715</th>\n",
              "      <td>0.003452</td>\n",
              "      <td>0.0</td>\n",
              "      <td>0.50</td>\n",
              "    </tr>\n",
              "    <tr>\n",
              "      <th>861</th>\n",
              "      <td>0.002855</td>\n",
              "      <td>0.0</td>\n",
              "      <td>0.25</td>\n",
              "    </tr>\n",
              "    <tr>\n",
              "      <th>13168</th>\n",
              "      <td>0.001601</td>\n",
              "      <td>0.0</td>\n",
              "      <td>0.00</td>\n",
              "    </tr>\n",
              "    <tr>\n",
              "      <th>7048</th>\n",
              "      <td>0.009641</td>\n",
              "      <td>1.0</td>\n",
              "      <td>0.00</td>\n",
              "    </tr>\n",
              "    <tr>\n",
              "      <th>3986</th>\n",
              "      <td>0.001601</td>\n",
              "      <td>1.0</td>\n",
              "      <td>0.00</td>\n",
              "    </tr>\n",
              "    <tr>\n",
              "      <th>940</th>\n",
              "      <td>0.008483</td>\n",
              "      <td>1.0</td>\n",
              "      <td>0.00</td>\n",
              "    </tr>\n",
              "    <tr>\n",
              "      <th>5687</th>\n",
              "      <td>0.001600</td>\n",
              "      <td>1.0</td>\n",
              "      <td>0.75</td>\n",
              "    </tr>\n",
              "    <tr>\n",
              "      <th>12843</th>\n",
              "      <td>0.001600</td>\n",
              "      <td>0.0</td>\n",
              "      <td>1.00</td>\n",
              "    </tr>\n",
              "    <tr>\n",
              "      <th>1215</th>\n",
              "      <td>0.001601</td>\n",
              "      <td>1.0</td>\n",
              "      <td>0.00</td>\n",
              "    </tr>\n",
              "    <tr>\n",
              "      <th>8984</th>\n",
              "      <td>0.000402</td>\n",
              "      <td>0.0</td>\n",
              "      <td>0.50</td>\n",
              "    </tr>\n",
              "  </tbody>\n",
              "</table>\n",
              "</div>"
            ],
            "text/plain": [
              "       childyrs  lbw  oth_chld\n",
              "2304   0.018705  0.0      0.00\n",
              "7258   0.015497  0.0      0.25\n",
              "14695  0.015836  0.0      0.00\n",
              "6060   0.003203  0.0      0.50\n",
              "7585   0.010127  0.0      0.25\n",
              "617    0.026805  0.0      0.25\n",
              "704    0.000530  0.0      0.00\n",
              "5150   0.093560  0.0      0.00\n",
              "6547   0.004804  1.0      0.75\n",
              "1020   0.008232  1.0      0.25\n",
              "9715   0.003452  0.0      0.50\n",
              "861    0.002855  0.0      0.25\n",
              "13168  0.001601  0.0      0.00\n",
              "7048   0.009641  1.0      0.00\n",
              "3986   0.001601  1.0      0.00\n",
              "940    0.008483  1.0      0.00\n",
              "5687   0.001600  1.0      0.75\n",
              "12843  0.001600  0.0      1.00\n",
              "1215   0.001601  1.0      0.00\n",
              "8984   0.000402  0.0      0.50"
            ]
          },
          "metadata": {},
          "execution_count": 25
        }
      ]
    },
    {
      "cell_type": "markdown",
      "metadata": {
        "id": "4Nkc17zuF6Ga"
      },
      "source": [
        "Запуск тренувальних даних"
      ]
    },
    {
      "cell_type": "code",
      "metadata": {
        "id": "RSXS9BPzxAVM"
      },
      "source": [
        "linkage=hcluster.linkage(\n",
        "        df[col],\n",
        "        method='centroid')\n"
      ],
      "execution_count": null,
      "outputs": []
    },
    {
      "cell_type": "code",
      "metadata": {
        "id": "2bgDsYE1GAXu"
      },
      "source": [
        "Матриця поєднання даних та дендограмма "
      ],
      "execution_count": null,
      "outputs": []
    },
    {
      "cell_type": "code",
      "metadata": {
        "colab": {
          "base_uri": "https://localhost:8080/",
          "height": 1000
        },
        "id": "pF4GyeqSxhk1",
        "outputId": "34eed580-3c4d-4981-ec02-020c664de13e"
      },
      "source": [
        "hcluster.dendrogram(linkage)"
      ],
      "execution_count": null,
      "outputs": [
        {
          "output_type": "execute_result",
          "data": {
            "text/plain": [
              "{'color_list': ['g',\n",
              "  'g',\n",
              "  'g',\n",
              "  'g',\n",
              "  'g',\n",
              "  'g',\n",
              "  'r',\n",
              "  'r',\n",
              "  'r',\n",
              "  'r',\n",
              "  'r',\n",
              "  'r',\n",
              "  'r',\n",
              "  'r',\n",
              "  'r',\n",
              "  'r',\n",
              "  'r',\n",
              "  'b',\n",
              "  'b'],\n",
              " 'dcoord': [[0.0, 0.0032041342619206, 0.0032041342619206, 0.0],\n",
              "  [0.0, 0.0, 0.0, 0.0],\n",
              "  [0.0, 0.0011575658529629166, 0.0011575658529629166, 0.0],\n",
              "  [0.0, 0.007460601506218145, 0.007460601506218145, 0.0011575658529629166],\n",
              "  [0.0, 0.25001682514585355, 0.25001682514585355, 0.007460601506218145],\n",
              "  [0.0032041342619206,\n",
              "   0.7000052435528579,\n",
              "   0.7000052435528579,\n",
              "   0.25001682514585355],\n",
              "  [0.0, 0.0010709679062378945, 0.0010709679062378945, 0.0],\n",
              "  [0.0, 0.002868593679311547, 0.002868593679311547, 0.0],\n",
              "  [0.0010709679062378945,\n",
              "   0.016204884427852534,\n",
              "   0.016204884427852534,\n",
              "   0.002868593679311547],\n",
              "  [0.0, 0.08439158327120799, 0.08439158327120799, 0.016204884427852534],\n",
              "  [0.0, 0.00024883282103069053, 0.00024883282103069053, 0.0],\n",
              "  [0.0, 0.002925156423617887, 0.002925156423617887, 0.00024883282103069053],\n",
              "  [0.0, 0.005369309738192458, 0.005369309738192458, 0.0],\n",
              "  [0.0, 0.009956712977896695, 0.009956712977896695, 0.005369309738192458],\n",
              "  [0.0, 0.017311532182885732, 0.017311532182885732, 0.009956712977896695],\n",
              "  [0.002925156423617887,\n",
              "   0.25026293024429086,\n",
              "   0.25026293024429086,\n",
              "   0.017311532182885732],\n",
              "  [0.08439158327120799,\n",
              "   0.357553948925603,\n",
              "   0.357553948925603,\n",
              "   0.25026293024429086],\n",
              "  [0.0, 0.7917984869477608, 0.7917984869477608, 0.357553948925603],\n",
              "  [0.7000052435528579,\n",
              "   1.0002328929788167,\n",
              "   1.0002328929788167,\n",
              "   0.7917984869477608]],\n",
              " 'icoord': [[5.0, 5.0, 15.0, 15.0],\n",
              "  [35.0, 35.0, 45.0, 45.0],\n",
              "  [55.0, 55.0, 65.0, 65.0],\n",
              "  [40.0, 40.0, 60.0, 60.0],\n",
              "  [25.0, 25.0, 50.0, 50.0],\n",
              "  [10.0, 10.0, 37.5, 37.5],\n",
              "  [95.0, 95.0, 105.0, 105.0],\n",
              "  [115.0, 115.0, 125.0, 125.0],\n",
              "  [100.0, 100.0, 120.0, 120.0],\n",
              "  [85.0, 85.0, 110.0, 110.0],\n",
              "  [145.0, 145.0, 155.0, 155.0],\n",
              "  [135.0, 135.0, 150.0, 150.0],\n",
              "  [185.0, 185.0, 195.0, 195.0],\n",
              "  [175.0, 175.0, 190.0, 190.0],\n",
              "  [165.0, 165.0, 182.5, 182.5],\n",
              "  [142.5, 142.5, 173.75, 173.75],\n",
              "  [97.5, 97.5, 158.125, 158.125],\n",
              "  [75.0, 75.0, 127.8125, 127.8125],\n",
              "  [23.75, 23.75, 101.40625, 101.40625]],\n",
              " 'ivl': ['8',\n",
              "  '16',\n",
              "  '9',\n",
              "  '14',\n",
              "  '18',\n",
              "  '13',\n",
              "  '15',\n",
              "  '17',\n",
              "  '7',\n",
              "  '6',\n",
              "  '12',\n",
              "  '0',\n",
              "  '2',\n",
              "  '19',\n",
              "  '3',\n",
              "  '10',\n",
              "  '5',\n",
              "  '11',\n",
              "  '1',\n",
              "  '4'],\n",
              " 'leaves': [8,\n",
              "  16,\n",
              "  9,\n",
              "  14,\n",
              "  18,\n",
              "  13,\n",
              "  15,\n",
              "  17,\n",
              "  7,\n",
              "  6,\n",
              "  12,\n",
              "  0,\n",
              "  2,\n",
              "  19,\n",
              "  3,\n",
              "  10,\n",
              "  5,\n",
              "  11,\n",
              "  1,\n",
              "  4]}"
            ]
          },
          "metadata": {},
          "execution_count": 29
        },
        {
          "output_type": "display_data",
          "data": {
            "image/png": "[encoded data removed]",
            "text/plain": [
              "<Figure size 432x288 with 1 Axes>"
            ]
          },
          "metadata": {
            "needs_background": "light"
          }
        }
      ]
    },
    {
      "cell_type": "markdown",
      "metadata": {
        "id": "oulvT852I3rV"
      },
      "source": [
        "З графіком бачимо, що потрібно використувати 3 кластери"
      ]
    },
    {
      "cell_type": "markdown",
      "metadata": {
        "id": "4ejbuNIQGPQi"
      },
      "source": [
        "Запуск ієрархічної кластерізації"
      ]
    },
    {
      "cell_type": "code",
      "metadata": {
        "id": "Ql4Tm0m3D16Q"
      },
      "source": [
        "pTarget=hcluster.fcluster(\n",
        "        linkage,3,\n",
        "        criterion='maxclust')"
      ],
      "execution_count": null,
      "outputs": []
    },
    {
      "cell_type": "code",
      "metadata": {
        "id": "CYk8JiDAGlM5"
      },
      "source": [
        "Статистичний перетин вибірки"
      ],
      "execution_count": null,
      "outputs": []
    },
    {
      "cell_type": "code",
      "metadata": {
        "colab": {
          "base_uri": "https://localhost:8080/",
          "height": 173
        },
        "id": "LiFiZegiEAIU",
        "outputId": "bd7410a9-98e9-47f6-bb4d-6e31cdec1440"
      },
      "source": [
        "pd.crosstab(pTarget,pTarget)"
      ],
      "execution_count": null,
      "outputs": [
        {
          "output_type": "execute_result",
          "data": {
            "text/html": [
              "<div>\n",
              "<style scoped>\n",
              "    .dataframe tbody tr th:only-of-type {\n",
              "        vertical-align: middle;\n",
              "    }\n",
              "\n",
              "    .dataframe tbody tr th {\n",
              "        vertical-align: top;\n",
              "    }\n",
              "\n",
              "    .dataframe thead th {\n",
              "        text-align: right;\n",
              "    }\n",
              "</style>\n",
              "<table border=\"1\" class=\"dataframe\">\n",
              "  <thead>\n",
              "    <tr style=\"text-align: right;\">\n",
              "      <th>col_0</th>\n",
              "      <th>1</th>\n",
              "      <th>2</th>\n",
              "      <th>3</th>\n",
              "    </tr>\n",
              "    <tr>\n",
              "      <th>row_0</th>\n",
              "      <th></th>\n",
              "      <th></th>\n",
              "      <th></th>\n",
              "    </tr>\n",
              "  </thead>\n",
              "  <tbody>\n",
              "    <tr>\n",
              "      <th>1</th>\n",
              "      <td>7</td>\n",
              "      <td>0</td>\n",
              "      <td>0</td>\n",
              "    </tr>\n",
              "    <tr>\n",
              "      <th>2</th>\n",
              "      <td>0</td>\n",
              "      <td>12</td>\n",
              "      <td>0</td>\n",
              "    </tr>\n",
              "    <tr>\n",
              "      <th>3</th>\n",
              "      <td>0</td>\n",
              "      <td>0</td>\n",
              "      <td>1</td>\n",
              "    </tr>\n",
              "  </tbody>\n",
              "</table>\n",
              "</div>"
            ],
            "text/plain": [
              "col_0  1   2  3\n",
              "row_0          \n",
              "1      7   0  0\n",
              "2      0  12  0\n",
              "3      0   0  1"
            ]
          },
          "metadata": {},
          "execution_count": 45
        }
      ]
    },
    {
      "cell_type": "markdown",
      "metadata": {
        "id": "g2hnPDuBGtB1"
      },
      "source": [
        "Середні значення та побудова гістаграми значень кожної змінної кожного кластера"
      ]
    },
    {
      "cell_type": "code",
      "metadata": {
        "id": "PilpLnSQEL0Q"
      },
      "source": [
        "dMean = pd.DataFrame (columns = col + ['Classification'])\n",
        "data_gb=df[col].groupby(pTarget)"
      ],
      "execution_count": null,
      "outputs": []
    },
    {
      "cell_type": "code",
      "metadata": {
        "colab": {
          "base_uri": "https://localhost:8080/",
          "height": 1000
        },
        "id": "LTAJ2O71ETNg",
        "outputId": "c17020b2-fcbb-413a-884c-f639f62b5936"
      },
      "source": [
        "i=0;\n",
        "for g in data_gb.groups:\n",
        "    rMean=data_gb.get_group(g).mean()\n",
        "    rMean ['Classification'] = g\n",
        "    dMean=dMean.append(rMean,ignore_index=True)\n",
        "    subData=data_gb.get_group(g)\n",
        "    for column in col:\n",
        "        i=i+1\n",
        "        fig = plt.figure(figsize = (20, 7))\n",
        "        p=plt.subplot(3,5,i)\n",
        "        p.set_title(column)\n",
        "        p.set_ylabel (str (g) + \" Кластер\")\n",
        "        plt.hist(subData[column],bins=20)"
      ],
      "execution_count": null,
      "outputs": [
        {
          "output_type": "display_data",
          "data": {
            "image/png": "[encoded data removed]",
            "text/plain": [
              "<Figure size 1440x504 with 1 Axes>"
            ]
          },
          "metadata": {
            "needs_background": "light"
          }
        },
        {
          "output_type": "display_data",
          "data": {
            "image/png": "[encoded data removed]",
            "text/plain": [
              "<Figure size 1440x504 with 1 Axes>"
            ]
          },
          "metadata": {
            "needs_background": "light"
          }
        },
        {
          "output_type": "display_data",
          "data": {
            "image/png": "[encoded data removed]",
            "text/plain": [
              "<Figure size 1440x504 with 1 Axes>"
            ]
          },
          "metadata": {
            "needs_background": "light"
          }
        },
        {
          "output_type": "display_data",
          "data": {
            "image/png": "[encoded data removed]",
            "text/plain": [
              "<Figure size 1440x504 with 1 Axes>"
            ]
          },
          "metadata": {
            "needs_background": "light"
          }
        },
        {
          "output_type": "display_data",
          "data": {
            "image/png": "[encoded data removed]",
            "text/plain": [
              "<Figure size 1440x504 with 1 Axes>"
            ]
          },
          "metadata": {
            "needs_background": "light"
          }
        },
        {
          "output_type": "display_data",
          "data": {
            "image/png": "[encoded data removed]",
            "text/plain": [
              "<Figure size 1440x504 with 1 Axes>"
            ]
          },
          "metadata": {
            "needs_background": "light"
          }
        },
        {
          "output_type": "display_data",
          "data": {
            "image/png": "[encoded data removed]",
            "text/plain": [
              "<Figure size 1440x504 with 1 Axes>"
            ]
          },
          "metadata": {
            "needs_background": "light"
          }
        },
        {
          "output_type": "display_data",
          "data": {
            "image/png": "[encoded data removed]",
            "text/plain": [
              "<Figure size 1440x504 with 1 Axes>"
            ]
          },
          "metadata": {
            "needs_background": "light"
          }
        },
        {
          "output_type": "display_data",
          "data": {
            "image/png": "[encoded data removed]",
            "text/plain": [
              "<Figure size 1440x504 with 1 Axes>"
            ]
          },
          "metadata": {
            "needs_background": "light"
          }
        }
      ]
    },
    {
      "cell_type": "markdown",
      "metadata": {
        "id": "4g31WvaLJIZM"
      },
      "source": [
        "# Висновок\n",
        "\n",
        "У даній роботі було представлено ієрархічний алгоритм кластерізації за допомогою бібліотеки scipy та sklearn.\n",
        "\n",
        "На дендограмі бачимо, що потрібно робити кластерізацію за трьома кластерами та виявили, що один об'єкт тав кластером (мабуть через сильну віддаленість та неоднорідність з іншими об'єктами.\n",
        "\n",
        "Також побудовані гістограми кожного кластера із середніми змінними, бачимо що це дійсно так, тому що у різних кластерах значення якісноіі змінноіі (0 в одному та 1 в іншому)."
      ]
    }
  ]
}